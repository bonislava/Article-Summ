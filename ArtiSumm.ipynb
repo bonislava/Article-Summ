{
 "cells": [
  {
   "cell_type": "markdown",
   "id": "872efa2a",
   "metadata": {},
   "source": [
    "# Article Summarizer"
   ]
  },
  {
   "cell_type": "code",
   "execution_count": 1,
   "id": "01522420",
   "metadata": {},
   "outputs": [
    {
     "name": "stdout",
     "output_type": "stream",
     "text": [
      "WARNING:tensorflow:From c:\\users\\boni_\\appdata\\local\\programs\\python\\python39\\lib\\site-packages\\keras\\src\\losses.py:2976: The name tf.losses.sparse_softmax_cross_entropy is deprecated. Please use tf.compat.v1.losses.sparse_softmax_cross_entropy instead.\n",
      "\n"
     ]
    }
   ],
   "source": [
    "from langchain.llms import HuggingFacePipeline\n",
    "from transformers import pipeline, AutoTokenizer, AutoModelForSeq2SeqLM\n",
    "from langchain.prompts import PromptTemplate\n",
    "from langchain.chains import LLMChain\n",
    "import requests\n",
    "from bs4 import BeautifulSoup\n",
    "import os"
   ]
  },
  {
   "cell_type": "code",
   "execution_count": 2,
   "id": "a847944d",
   "metadata": {},
   "outputs": [],
   "source": [
    "def extract(url):\n",
    "    if not url.strip():\n",
    "        print(\"Error: Empty URL\")\n",
    "        return None\n",
    "    try:\n",
    "        webpage = requests.get(url)\n",
    "        webpage.raise_for_status()\n",
    "        \n",
    "        soup = BeautifulSoup(webpage.text, 'html.parser')\n",
    "        paragraphs = soup.find_all('p')\n",
    "        \n",
    "        article = ' '.join(p.text for p in paragraphs)\n",
    "        \n",
    "        if not article:\n",
    "            raise ValueError(\"The artticle appears to be empty or poorly formated\")\n",
    "        return article\n",
    "    \n",
    "    except requests.exceptions.RequestException as req_err:\n",
    "        print(f\"An HTTP error occured: {req_err}\")\n",
    "        \n",
    "    except ValueError as val_err:\n",
    "        print(f\"Value error occured: {val_err}\")\n",
    "    \n",
    "    except Exceptions as e :\n",
    "        print(f\"An error occurred: {e}\")\n",
    "        \n",
    "    return None"
   ]
  },
  {
   "cell_type": "code",
   "execution_count": 3,
   "id": "8450c38f",
   "metadata": {},
   "outputs": [],
   "source": [
    "def load_model():\n",
    "    name = \"google/flan-t5-large\"\n",
    "    tokenizer = AutoTokenizer.from_pretrained(name, clean_up_tokenization_spaces = True)\n",
    "    model = AutoModelForSeq2SeqLM.from_pretrained(name, device_map = \"auto\")\n",
    "    pipe = pipeline(\"text2text-generation\", model = model, tokenizer = tokenizer, max_length = 100)\n",
    "    return HuggingFacePipeline(pipeline = pipe)"
   ]
  },
  {
   "cell_type": "code",
   "execution_count": 4,
   "id": "113df8c3",
   "metadata": {},
   "outputs": [],
   "source": [
    "def summarize(art_text):\n",
    "    summary_prompt = PromptTemplate(input_var = [\"text\"],\n",
    "                                    template = \"Summarize the article in detail :\\n{text}\")\n",
    "    title_prompt = PromptTemplate(input_var = [\"text\"],\n",
    "                                 template = \"Generate a title for this article :\\n{text}\")\n",
    "    llm = load_model()\n",
    "    \n",
    "    summary_chain = LLMChain(llm = llm, prompt = summary_prompt)\n",
    "    summary = summary_chain.run(text = art_text)\n",
    "    \n",
    "    title_chain = LLMChain(llm = llm, prompt = title_prompt)\n",
    "    title = title_chain.run(text = art_text)\n",
    "    \n",
    "    return summary, title"
   ]
  },
  {
   "cell_type": "code",
   "execution_count": 5,
   "id": "89dce8ff",
   "metadata": {},
   "outputs": [],
   "source": [
    "def save(url, title, summary, filename = \"Summaries.txt\"):\n",
    "    txt = f\"URL : {url}\\n GeneratedTitle : {title}\\n Summary:\\n {summary}\\n\\n{'='*50}\\n\\n\"\n",
    "    \n",
    "    with open(filename, \"a\", encoding = \"utf-8\") as file:\n",
    "        file.write(txt)\n",
    "    print(f\"saved successfully to {filename}\")"
   ]
  },
  {
   "cell_type": "code",
   "execution_count": 6,
   "id": "0c6068ce",
   "metadata": {},
   "outputs": [
    {
     "name": "stdin",
     "output_type": "stream",
     "text": [
      "Enter URL:  https://www.teachermagazine.com/sea_en/articles/a-new-approach-to-personalised-learning\n"
     ]
    },
    {
     "name": "stdout",
     "output_type": "stream",
     "text": [
      "Successfully extracted.Generating summary and title :\n",
      "\n"
     ]
    },
    {
     "name": "stderr",
     "output_type": "stream",
     "text": [
      "<ipython-input-3-e6cd0e567095>:6: LangChainDeprecationWarning: The class `HuggingFacePipeline` was deprecated in LangChain 0.0.37 and will be removed in 1.0. An updated version of the class exists in the :class:`~langchain-huggingface package and should be used instead. To use it run `pip install -U :class:`~langchain-huggingface` and import as `from :class:`~langchain_huggingface import HuggingFacePipeline``.\n",
      "  return HuggingFacePipeline(pipeline = pipe)\n",
      "<ipython-input-4-c9d1fa04d5e2>:8: LangChainDeprecationWarning: The class `LLMChain` was deprecated in LangChain 0.1.17 and will be removed in 1.0. Use :meth:`~RunnableSequence, e.g., `prompt | llm`` instead.\n",
      "  summary_chain = LLMChain(llm = llm, prompt = summary_prompt)\n",
      "<ipython-input-4-c9d1fa04d5e2>:9: LangChainDeprecationWarning: The method `Chain.run` was deprecated in langchain 0.1.0 and will be removed in 1.0. Use :meth:`~invoke` instead.\n",
      "  summary = summary_chain.run(text = art_text)\n",
      "Token indices sequence length is longer than the specified maximum sequence length for this model (754 > 512). Running this sequence through the model will result in indexing errors\n"
     ]
    },
    {
     "name": "stdout",
     "output_type": "stream",
     "text": [
      "Title:\n",
      "A global study calls for personalised education\n",
      "\n",
      "Sumary:\n",
      "A global study aims to reimagine the future of education, to build more resilient and sustainable education systems.\n",
      "\n",
      "saved successfully to Summaries.txt\n"
     ]
    }
   ],
   "source": [
    "def main():\n",
    "    url = input(\"Enter URL: \").strip()\n",
    "    art_text = extract(url)\n",
    "    \n",
    "    if art_text:\n",
    "        print(\"Successfully extracted.Generating summary and title :\\n\")\n",
    "        summary, title = summarize(art_text)\n",
    "        print(f\"Title:\\n{title}\\n\")\n",
    "        print(f\"Sumary:\\n{summary}\\n\")\n",
    "        \n",
    "        save(url,title,summary)\n",
    "        \n",
    "if __name__ == \"__main__\":\n",
    "    main()"
   ]
  }
 ],
 "metadata": {
  "kernelspec": {
   "display_name": "Python 3",
   "language": "python",
   "name": "python3"
  },
  "language_info": {
   "codemirror_mode": {
    "name": "ipython",
    "version": 3
   },
   "file_extension": ".py",
   "mimetype": "text/x-python",
   "name": "python",
   "nbconvert_exporter": "python",
   "pygments_lexer": "ipython3",
   "version": "3.9.2"
  }
 },
 "nbformat": 4,
 "nbformat_minor": 5
}
